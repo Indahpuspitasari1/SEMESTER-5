{
 "cells": [
  {
   "cell_type": "code",
   "execution_count": 1,
   "metadata": {
    "colab": {
     "base_uri": "https://localhost:8080/"
    },
    "executionInfo": {
     "elapsed": 9868,
     "status": "ok",
     "timestamp": 1727267251239,
     "user": {
      "displayName": "IVANA LUCIA KHARISMA",
      "userId": "00310291050108345428"
     },
     "user_tz": -420
    },
    "id": "Rc1p_wKqHoU5",
    "outputId": "818fbc70-413d-4b6e-99ab-bc31675ab255"
   },
   "outputs": [
    {
     "name": "stdout",
     "output_type": "stream",
     "text": [
      "Requirement already satisfied: opencv-python in c:\\users\\indah\\anaconda3\\lib\\site-packages (4.10.0.84)\n",
      "Requirement already satisfied: numpy>=1.21.2 in c:\\users\\indah\\anaconda3\\lib\\site-packages (from opencv-python) (1.26.4)\n"
     ]
    }
   ],
   "source": [
    "!pip install opencv-python"
   ]
  },
  {
   "cell_type": "code",
   "execution_count": 2,
   "metadata": {
    "executionInfo": {
     "elapsed": 1586,
     "status": "ok",
     "timestamp": 1727267305013,
     "user": {
      "displayName": "IVANA LUCIA KHARISMA",
      "userId": "00310291050108345428"
     },
     "user_tz": -420
    },
    "id": "ZnQu1HcMHoU_"
   },
   "outputs": [],
   "source": [
    "import cv2\n",
    "\n",
    "# Load Haarcascade classifiers\n",
    "face_classifier = cv2.CascadeClassifier(cv2.data.haarcascades + \"haarcascade_frontalface_default.xml\")\n",
    "eye_classifier = cv2.CascadeClassifier(cv2.data.haarcascades + \"haarcascade_eye.xml\")\n",
    "eyeglass_classifier = cv2.CascadeClassifier(cv2.data.haarcascades + \"haarcascade_eye_tree_eyeglasses.xml\")\n",
    "smile_classifier = cv2.CascadeClassifier(cv2.data.haarcascades + \"haarcascade_smile.xml\")"
   ]
  },
  {
   "cell_type": "code",
   "execution_count": 3,
   "metadata": {
    "executionInfo": {
     "elapsed": 693,
     "status": "ok",
     "timestamp": 1727267313375,
     "user": {
      "displayName": "IVANA LUCIA KHARISMA",
      "userId": "00310291050108345428"
     },
     "user_tz": -420
    },
    "id": "fzpeCsnhHoVB"
   },
   "outputs": [],
   "source": [
    "def detect_features(vid):\n",
    "    gray_image = cv2.cvtColor(vid, cv2.COLOR_BGR2GRAY)\n",
    "    \n",
    "    # Detect faces\n",
    "    faces = face_classifier.detectMultiScale(gray_image, 1.1, 5, minSize=(40, 40))\n",
    "    \n",
    "    for (x, y, w, h) in faces:\n",
    "        # Draw rectangle around face and label it as \"face\"\n",
    "        cv2.rectangle(vid, (x, y), (x + w, y + h), (0, 255, 0), 4)\n",
    "        cv2.putText(vid, 'Face', (x, y - 10), cv2.FONT_HERSHEY_SIMPLEX, 0.9, (0, 255, 0), 2)\n",
    "\n",
    "        # Region of interest (ROI) for detecting eyes, smile, and eyeglasses within the face\n",
    "        roi_gray = gray_image[y:y + h, x:x + w]\n",
    "        roi_color = vid[y:y + h, x:x + w]\n",
    "\n",
    "        # Detect eyes within face region\n",
    "        eyes = eye_classifier.detectMultiScale(roi_gray, 1.1, 22)\n",
    "        eyeglasses = eyeglass_classifier.detectMultiScale(roi_gray, 1.1, 22)\n",
    "\n",
    "        # If eyes are detected, label as \"eye\"\n",
    "        if len(eyes) > 0:\n",
    "            for (ex, ey, ew, eh) in eyes:\n",
    "                cv2.rectangle(roi_color, (ex, ey), (ex + ew, ey + eh), (255, 0, 0), 2)  # Blue for eyes\n",
    "                cv2.putText(roi_color, 'Eye', (ex, ey - 5), cv2.FONT_HERSHEY_SIMPLEX, 0.7, (255, 0, 0), 2)\n",
    "        elif len(eyeglasses) > 0:\n",
    "            # If eyeglasses are detected, label as \"eyeglasses\"\n",
    "            for (ex, ey, ew, eh) in eyeglasses:\n",
    "                cv2.rectangle(roi_color, (ex, ey), (ex + ew, ey + eh), (0, 255, 255), 2)  # Yellow for eyeglasses\n",
    "                cv2.putText(roi_color, 'Eyeglasses', (ex, ey - 5), cv2.FONT_HERSHEY_SIMPLEX, 0.7, (0, 255, 255), 2)\n",
    "        else:\n",
    "            # If no eyes or eyeglasses detected, assume no glasses\n",
    "            cv2.putText(roi_color, 'with Eyeglasses', (10, 30), cv2.FONT_HERSHEY_SIMPLEX, 0.9, (255, 0, 0), 2)\n",
    "\n",
    "        # Detect smile within face region\n",
    "        smiles = smile_classifier.detectMultiScale(roi_gray, 1.7, 22)\n",
    "        for (sx, sy, sw, sh) in smiles:\n",
    "            cv2.rectangle(roi_color, (sx, sy), (sx + sw, sy + sh), (0, 0, 255), 2)  # Red for smile\n",
    "            cv2.putText(roi_color, 'Smile', (sx, sy + sh + 20), cv2.FONT_HERSHEY_SIMPLEX, 0.7, (0, 0, 255), 2)\n",
    "\n",
    "    return vid"
   ]
  },
  {
   "cell_type": "code",
   "execution_count": 6,
   "metadata": {
    "executionInfo": {
     "elapsed": 11,
     "status": "ok",
     "timestamp": 1727267309741,
     "user": {
      "displayName": "IVANA LUCIA KHARISMA",
      "userId": "00310291050108345428"
     },
     "user_tz": -420
    },
    "id": "dX_7AIdwHoVA"
   },
   "outputs": [],
   "source": [
    "video_capture = cv2.VideoCapture(0)"
   ]
  },
  {
   "cell_type": "code",
   "execution_count": null,
   "metadata": {
    "executionInfo": {
     "elapsed": 540,
     "status": "ok",
     "timestamp": 1727267319956,
     "user": {
      "displayName": "IVANA LUCIA KHARISMA",
      "userId": "00310291050108345428"
     },
     "user_tz": -420
    },
    "id": "YhzCIQgTHoVB"
   },
   "outputs": [],
   "source": [
    "while True:\n",
    "    result, video_frame = video_capture.read()  # Read frames from the video\n",
    "    if not result:\n",
    "        break  # Terminate the loop if frame is not read successfully\n",
    "    \n",
    "    # Apply the feature detection function\n",
    "    processed_frame = detect_features(video_frame)\n",
    "    \n",
    "    # Display the processed frame with detected face, eyes, smile, and eyeglasses\n",
    "    cv2.imshow(\"Face, Eye, Smile, and Eyeglasses Detection\", processed_frame)\n",
    "\n",
    "    # Break the loop on 'q' key press\n",
    "    if cv2.waitKey(1) & 0xFF == ord('q'):\n",
    "        break\n",
    "\n",
    "# Release video capture object and close all OpenCV windows\n",
    "video_capture.release()\n",
    "cv2.destroyAllWindows()"
   ]
  }
 ],
 "metadata": {
  "colab": {
   "provenance": []
  },
  "kernelspec": {
   "display_name": "Python 3 (ipykernel)",
   "language": "python",
   "name": "python3"
  },
  "language_info": {
   "codemirror_mode": {
    "name": "ipython",
    "version": 3
   },
   "file_extension": ".py",
   "mimetype": "text/x-python",
   "name": "python",
   "nbconvert_exporter": "python",
   "pygments_lexer": "ipython3",
   "version": "3.11.7"
  }
 },
 "nbformat": 4,
 "nbformat_minor": 4
}
